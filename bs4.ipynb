{
 "cells": [
  {
   "cell_type": "code",
   "execution_count": 2,
   "metadata": {},
   "outputs": [],
   "source": [
    "from bs4 import BeautifulSoup\n",
    "import requests"
   ]
  },
  {
   "cell_type": "markdown",
   "metadata": {},
   "source": [
    "El Financiero"
   ]
  },
  {
   "cell_type": "code",
   "execution_count": 3,
   "metadata": {},
   "outputs": [],
   "source": [
    "response = requests.get('https://www.elfinancierocr.com/')\n",
    "soup = BeautifulSoup(response.text, 'html.parser')"
   ]
  },
  {
   "cell_type": "markdown",
   "metadata": {},
   "source": [
    "Get articles links"
   ]
  },
  {
   "cell_type": "code",
   "execution_count": null,
   "metadata": {},
   "outputs": [],
   "source": [
    "main_url = \"https://www.elfinancierocr.com\"\n",
    "tags = soup.select('h1.primary-font__PrimaryFontStyles-o56yd5-0 a')\n",
    "links = [str(tag['href']) for tag in tags]\n",
    "\n",
    "visited_links = []\n",
    "\n",
    "for link in links:\n",
    "    if not main_url in link:\n",
    "        link = main_url+link\n",
    "    \n",
    "    if link not in visited_links:\n",
    "        visited_links.append(link)\n",
    "print(visited_links)"
   ]
  },
  {
   "cell_type": "markdown",
   "metadata": {},
   "source": [
    "Article Title"
   ]
  },
  {
   "cell_type": "code",
   "execution_count": 34,
   "metadata": {},
   "outputs": [],
   "source": [
    "response = requests.get('https://www.elfinancierocr.com/finanzas/tipo-de-cambio-registro-un-aumento-de-571-en-el/TVNQEC7FDJBA3NGH6Y6CPGN7JM/story/')\n",
    "soup = BeautifulSoup(response.text, 'html.parser')"
   ]
  },
  {
   "cell_type": "code",
   "execution_count": 35,
   "metadata": {},
   "outputs": [
    {
     "ename": "KeyError",
     "evalue": "'text'",
     "output_type": "error",
     "traceback": [
      "\u001b[1;31m---------------------------------------------------------------------------\u001b[0m",
      "\u001b[1;31mKeyError\u001b[0m                                  Traceback (most recent call last)",
      "\u001b[1;32md:\\Documentos\\Python\\cursos\\Web Scrapper - Ingeniería de Datos\\bs4.ipynb Cell 8'\u001b[0m in \u001b[0;36m<cell line: 2>\u001b[1;34m()\u001b[0m\n\u001b[0;32m      <a href='vscode-notebook-cell:/d%3A/Documentos/Python/cursos/Web%20Scrapper%20-%20Ingenier%C3%ADa%20de%20Datos/bs4.ipynb#ch0000009?line=0'>1</a>\u001b[0m title \u001b[39m=\u001b[39m soup\u001b[39m.\u001b[39mselect(\u001b[39m'\u001b[39m\u001b[39mdiv.col-sm-xl-12 h1.primary-font__PrimaryFontStyles-o56yd5-0\u001b[39m\u001b[39m'\u001b[39m)\n\u001b[1;32m----> <a href='vscode-notebook-cell:/d%3A/Documentos/Python/cursos/Web%20Scrapper%20-%20Ingenier%C3%ADa%20de%20Datos/bs4.ipynb#ch0000009?line=1'>2</a>\u001b[0m title[\u001b[39m0\u001b[39;49m][\u001b[39m'\u001b[39;49m\u001b[39mtext\u001b[39;49m\u001b[39m'\u001b[39;49m]\n",
      "File \u001b[1;32md:\\Documentos\\Python\\cursos\\Web Scrapper - Ingeniería de Datos\\venv\\lib\\site-packages\\bs4\\element.py:1486\u001b[0m, in \u001b[0;36mTag.__getitem__\u001b[1;34m(self, key)\u001b[0m\n\u001b[0;32m   <a href='file:///d%3A/Documentos/Python/cursos/Web%20Scrapper%20-%20Ingenier%C3%ADa%20de%20Datos/venv/lib/site-packages/bs4/element.py?line=1482'>1483</a>\u001b[0m \u001b[39mdef\u001b[39;00m \u001b[39m__getitem__\u001b[39m(\u001b[39mself\u001b[39m, key):\n\u001b[0;32m   <a href='file:///d%3A/Documentos/Python/cursos/Web%20Scrapper%20-%20Ingenier%C3%ADa%20de%20Datos/venv/lib/site-packages/bs4/element.py?line=1483'>1484</a>\u001b[0m     \u001b[39m\"\"\"tag[key] returns the value of the 'key' attribute for the Tag,\u001b[39;00m\n\u001b[0;32m   <a href='file:///d%3A/Documentos/Python/cursos/Web%20Scrapper%20-%20Ingenier%C3%ADa%20de%20Datos/venv/lib/site-packages/bs4/element.py?line=1484'>1485</a>\u001b[0m \u001b[39m    and throws an exception if it's not there.\"\"\"\u001b[39;00m\n\u001b[1;32m-> <a href='file:///d%3A/Documentos/Python/cursos/Web%20Scrapper%20-%20Ingenier%C3%ADa%20de%20Datos/venv/lib/site-packages/bs4/element.py?line=1485'>1486</a>\u001b[0m     \u001b[39mreturn\u001b[39;00m \u001b[39mself\u001b[39;49m\u001b[39m.\u001b[39;49mattrs[key]\n",
      "\u001b[1;31mKeyError\u001b[0m: 'text'"
     ]
    }
   ],
   "source": [
    "title = soup.select('div.col-sm-xl-12 h1.primary-font__PrimaryFontStyles-o56yd5-0')\n",
    "title[0]['text']"
   ]
  },
  {
   "cell_type": "code",
   "execution_count": null,
   "metadata": {},
   "outputs": [],
   "source": [
    "body_tags = soup.select('article.default__ArticleBody-xb1qmn-2 p')\n",
    "body = [p.text for p in body_tags]\n",
    "text = ' '.join(body)\n",
    "text"
   ]
  },
  {
   "cell_type": "markdown",
   "metadata": {},
   "source": [
    "Date"
   ]
  },
  {
   "cell_type": "code",
   "execution_count": 17,
   "metadata": {},
   "outputs": [
    {
     "data": {
      "text/plain": [
       "'2022-03-05T12:00:00Z'"
      ]
     },
     "execution_count": 17,
     "metadata": {},
     "output_type": "execute_result"
    }
   ],
   "source": [
    "date = soup.select('time.primary-font__PrimaryFontStyles-o56yd5-0')\n",
    "date[0].da"
   ]
  },
  {
   "cell_type": "markdown",
   "metadata": {},
   "source": [
    "Autor"
   ]
  },
  {
   "cell_type": "code",
   "execution_count": 33,
   "metadata": {},
   "outputs": [
    {
     "data": {
      "text/plain": [
       "' Mónica Cerdas'"
      ]
     },
     "execution_count": 33,
     "metadata": {},
     "output_type": "execute_result"
    }
   ],
   "source": [
    "autor = soup.select('span.ts-byline__names')\n",
    "autor[0].text"
   ]
  },
  {
   "cell_type": "markdown",
   "metadata": {},
   "source": [
    "La Nación"
   ]
  },
  {
   "cell_type": "code",
   "execution_count": 20,
   "metadata": {},
   "outputs": [],
   "source": [
    "response = requests.get('https://www.nacion.com')\n",
    "soup = BeautifulSoup(response.text, 'html.parser')"
   ]
  },
  {
   "cell_type": "markdown",
   "metadata": {},
   "source": [
    "Links"
   ]
  },
  {
   "cell_type": "code",
   "execution_count": null,
   "metadata": {},
   "outputs": [],
   "source": [
    "tags = soup.select('h1.primary-font__PrimaryFontStyles-o56yd5-0 a')\n",
    "links = [str(tag['href']) for tag in tags]\n",
    "nacion_url = \"https://www.nacion.com\"\n",
    "visited_links = []\n",
    "for link in links:\n",
    "    if not main_url in link:\n",
    "        link = main_url+link\n",
    "    if link not in visited_links:\n",
    "        visited_links.append(link)\n",
    "\n",
    "for i in visited_links:\n",
    "    print(i)"
   ]
  },
  {
   "cell_type": "markdown",
   "metadata": {},
   "source": [
    "Article Title"
   ]
  },
  {
   "cell_type": "code",
   "execution_count": 22,
   "metadata": {},
   "outputs": [],
   "source": [
    "response = requests.get('https://www.nacion.com/el-pais/politica/arnoldo-andre-tinoco-rodrigo-chaves-giraba/NDT2FV2CRZCCPPW7TSJK3XIA7I/story/')\n",
    "soup = BeautifulSoup(response.text, 'html.parser')"
   ]
  },
  {
   "cell_type": "code",
   "execution_count": 23,
   "metadata": {},
   "outputs": [
    {
     "data": {
      "text/plain": [
       "'Arnoldo André Tinoco: Rodrigo Chaves giraba instrucciones para usar dinero de fideicomiso'"
      ]
     },
     "execution_count": 23,
     "metadata": {},
     "output_type": "execute_result"
    }
   ],
   "source": [
    "title = soup.select('div.col-sm-xl-12 h1.primary-font__PrimaryFontStyles-o56yd5-0')\n",
    "title[0].text"
   ]
  },
  {
   "cell_type": "code",
   "execution_count": 26,
   "metadata": {},
   "outputs": [
    {
     "data": {
      "text/plain": [
       "'El abogado Arnoldo André Tinoco, de la firma ATA Trust Company S. A., también donó dinero al fideicomiso que costeó gastos de la campaña de Rodrigo Chaves, al margen del PPSD. Archivo/La Nación  El abogado Arnoldo André Tinoco, quien administró los fondos de un fideicomiso privado que pagó gastos de campaña de Rodrigo Chaves, al margen del Partido Progreso Social Democrático (PPSD), declaró que el candidato presidencial era una de las personas que giraba instrucciones sobre cómo utilizar los recursos. Entrevistado por La Nación sobre el fin que se le dio al dinero, André Tinoco alegó, una y otra vez, desconocer en qué se gastó el dinero, bajo el argumento de que no tenía los documentos a mano. El presidente de la sociedad ATA Trust Company, fiduciario del fideicomiso denominado Costa Rica Próspera, insistió en que su empresa solo custodiaba los recursos y que Chaves y otras figuras, como el empresario Jack Loeb —uno de los principales financistas del exministro de Hacienda—, eran quieres decidían en qué, cuándo y cómo se gastaban los fondos. El abogado contestó a La Nación en calidad de vocero designado por el partido de Chaves. Alegó que el fideicomiso se constituyó en febrero del 2021 en el marco de un “grupo de pensamiento y acción de los problemas nacionales” y que no tenía fines proselitistas, aunque no negó que los recursos se usaran en gastos de la campaña de Chaves. El propio André Tinoco y dos sociedades suyas aportaron dinero a la estructura privada. Así respondió preguntas sobre el tema este sábado a La Nación: - Yo no tengo el detalle a la mano, pero sí sé que, a partir de la elección de don Rodrigo, el fideicomiso tenía que ir feneciendo y así lo hicimos, hasta devolver los fondos (restantes a los donantes). “Recuerde que él fue electo candidato el 19 de setiembre (del 2021) y el periodo electoral comenzó en octubre. Todo lo que el fideicomiso pagó, la causa, fue anterior al 19 de setiembre. Lo último fue la liquidación de todos esos contratos, que se tomaron un par de semanas más”. - Hasta donde yo recuerdo fue electo el 19 de setiembre. - Yo no tengo a la vista los detalles contables y eso no se lo puedo contestar. - Le digo, no tengo a la vista los detalles contables; no le puedo contestar a ciencia cierta. Lo que sí le sé decir es que nosotros, como fiduciarios, nos limitamos a girar y pagar conforme recibíamos las instrucciones. - Los voceros del grupo Costa Rica Próspera, integrado al fideicomiso, que eran don Rodrigo Chaves y don Jack Loeb; Carlos Vásquez en un inicio, después estuvo José Coto y después vino otra gente. - Yo desconozco el detalle porque no lo tengo a la vista y no quiero caer en una imprecisión. Yo sé que nosotros teníamos empleados y que pagábamos, pero no sé cuáles, ni qué monto ni cuándo. Y sí sé que todo el personal nuestro se liquidó entre setiembre y octubre. - Es que entiéndame, yo era fiduciario. - Exacto. Yo lo que administraba era el dinero. - Sí, son pagos míos que las sociedades hicieron por cuenta mía, yo lo pagué por medio de una sociedad. - No, ya le expliqué los objetivos del fideicomiso, lo constituimos en febrero, era un grupo de estudio de los problemas nacionales. Yo no lo veo así. - Yo no lo veo así. - Nosotros teníamos el grupo de estudio, Rodrigo Chaves era el vocero de ese grupo y en esa condición es que estábamos operando. - Sí, claro, una vez que nosotros fuimos madurando las ideas, él se fue acercando a los partidos políticos, ustedes conocen la historia, hubo acercamientos, intentos de coalición, un montón de cosas, pero eso no tiene que ver con el fideicomiso de Costa Rica Próspera. Ese es el grupo nuestro. Yo no conozco a la gente del partido Progreso. Yo no he puesto un pie en esa casa, no tengo nada que ver con ellos. - Bueno, nosotros continuamos con nuestra actividad, cuando él fue electo el 19 de setiembre, antes de eso cesamos. - No lo estoy negando, le estoy diciendo que no tengo acceso, en este momento, el detalle de la contabilidad para asegurárselo. No sé.'"
      ]
     },
     "execution_count": 26,
     "metadata": {},
     "output_type": "execute_result"
    }
   ],
   "source": [
    "body_tags = soup.select('article.default__ArticleBody-xb1qmn-2 p')\n",
    "body = [p.text for p in body_tags]\n",
    "text = ' '.join(body)\n",
    "text"
   ]
  },
  {
   "cell_type": "markdown",
   "metadata": {},
   "source": [
    "Reading CSV"
   ]
  },
  {
   "cell_type": "code",
   "execution_count": 36,
   "metadata": {},
   "outputs": [],
   "source": [
    "import pandas as pd"
   ]
  },
  {
   "cell_type": "code",
   "execution_count": 39,
   "metadata": {},
   "outputs": [
    {
     "data": {
      "text/html": [
       "<div>\n",
       "<style scoped>\n",
       "    .dataframe tbody tr th:only-of-type {\n",
       "        vertical-align: middle;\n",
       "    }\n",
       "\n",
       "    .dataframe tbody tr th {\n",
       "        vertical-align: top;\n",
       "    }\n",
       "\n",
       "    .dataframe thead th {\n",
       "        text-align: right;\n",
       "    }\n",
       "</style>\n",
       "<table border=\"1\" class=\"dataframe\">\n",
       "  <thead>\n",
       "    <tr style=\"text-align: right;\">\n",
       "      <th></th>\n",
       "      <th>title</th>\n",
       "      <th>body</th>\n",
       "      <th>autor</th>\n",
       "      <th>date</th>\n",
       "    </tr>\n",
       "  </thead>\n",
       "  <tbody>\n",
       "    <tr>\n",
       "      <th>0</th>\n",
       "      <td>Putin lanza advertencia: Países que impongan z...</td>\n",
       "      <td>Moscú. Rusia advirtió este sábado que la guerr...</td>\n",
       "      <td>AFP</td>\n",
       "      <td>2022-03-05T17:24:02.897Z</td>\n",
       "    </tr>\n",
       "    <tr>\n",
       "      <th>1</th>\n",
       "      <td>‘La curación infinita’: relatos de enfermedad ...</td>\n",
       "      <td>Una historia escrita a cuatro manos y que, poc...</td>\n",
       "      <td>Jorge Arturo Mora</td>\n",
       "      <td>2022-02-27T17:11:00Z</td>\n",
       "    </tr>\n",
       "    <tr>\n",
       "      <th>2</th>\n",
       "      <td>Bancos en Costa Rica deben acatar sanciones fi...</td>\n",
       "      <td>Las entidades bancarias de Costa Rica deben ac...</td>\n",
       "      <td>Patricia Leitón</td>\n",
       "      <td>2022-03-04T18:56:26.770Z</td>\n",
       "    </tr>\n",
       "    <tr>\n",
       "      <th>3</th>\n",
       "      <td>Deliciosos platillos y ambiente relajado para ...</td>\n",
       "      <td>Tacobar  El teletrabajo es una herramienta que...</td>\n",
       "      <td>NaN</td>\n",
       "      <td>2022-02-28T18:57:30.771Z</td>\n",
       "    </tr>\n",
       "    <tr>\n",
       "      <th>4</th>\n",
       "      <td>Envíos de piña a Rusia se suspenden y producto...</td>\n",
       "      <td>Los cargamentos de banano y piña que se export...</td>\n",
       "      <td>Paula Umaña</td>\n",
       "      <td>2022-03-04T23:24:31.341Z</td>\n",
       "    </tr>\n",
       "    <tr>\n",
       "      <th>...</th>\n",
       "      <td>...</td>\n",
       "      <td>...</td>\n",
       "      <td>...</td>\n",
       "      <td>...</td>\n",
       "    </tr>\n",
       "    <tr>\n",
       "      <th>96</th>\n",
       "      <td>Los Ángeles Azules armaron un fiestón en Parqu...</td>\n",
       "      <td>Las luces se apagaron, las notas de Cómo te vo...</td>\n",
       "      <td>Jessica Rojas Ch.</td>\n",
       "      <td>2022-03-05T13:18:27.334Z</td>\n",
       "    </tr>\n",
       "    <tr>\n",
       "      <th>97</th>\n",
       "      <td>‘El poder del perro’, un filme con aroma a exc...</td>\n",
       "      <td>The Power of the Dog (El poder del perro, 2021...</td>\n",
       "      <td>Ileana Rodríguez</td>\n",
       "      <td>2022-03-05T17:43:13.429Z</td>\n",
       "    </tr>\n",
       "    <tr>\n",
       "      <th>98</th>\n",
       "      <td>El Real Madrid golea y se escapa en LaLiga esp...</td>\n",
       "      <td>El Real Madrid goleó a la Real Sociedad (4-1),...</td>\n",
       "      <td>NaN</td>\n",
       "      <td>2022-03-05T22:45:29.983Z</td>\n",
       "    </tr>\n",
       "    <tr>\n",
       "      <th>99</th>\n",
       "      <td>Iniciativa de Costa Rica para democratizar tec...</td>\n",
       "      <td>La iniciativa que Costa Rica presentó ante la ...</td>\n",
       "      <td>Irene Rodríguez</td>\n",
       "      <td>2022-03-03T19:42:31.738Z</td>\n",
       "    </tr>\n",
       "    <tr>\n",
       "      <th>100</th>\n",
       "      <td>Arnoldo André Tinoco: Rodrigo Chaves giraba in...</td>\n",
       "      <td>El abogado Arnoldo André Tinoco, de la firma A...</td>\n",
       "      <td>Natasha Cambronero y Esteban Oviedo</td>\n",
       "      <td>2022-03-05T21:43:26.726Z</td>\n",
       "    </tr>\n",
       "  </tbody>\n",
       "</table>\n",
       "<p>101 rows × 4 columns</p>\n",
       "</div>"
      ],
      "text/plain": [
       "                                                 title  \\\n",
       "0    Putin lanza advertencia: Países que impongan z...   \n",
       "1    ‘La curación infinita’: relatos de enfermedad ...   \n",
       "2    Bancos en Costa Rica deben acatar sanciones fi...   \n",
       "3    Deliciosos platillos y ambiente relajado para ...   \n",
       "4    Envíos de piña a Rusia se suspenden y producto...   \n",
       "..                                                 ...   \n",
       "96   Los Ángeles Azules armaron un fiestón en Parqu...   \n",
       "97   ‘El poder del perro’, un filme con aroma a exc...   \n",
       "98   El Real Madrid golea y se escapa en LaLiga esp...   \n",
       "99   Iniciativa de Costa Rica para democratizar tec...   \n",
       "100  Arnoldo André Tinoco: Rodrigo Chaves giraba in...   \n",
       "\n",
       "                                                  body  \\\n",
       "0    Moscú. Rusia advirtió este sábado que la guerr...   \n",
       "1    Una historia escrita a cuatro manos y que, poc...   \n",
       "2    Las entidades bancarias de Costa Rica deben ac...   \n",
       "3    Tacobar  El teletrabajo es una herramienta que...   \n",
       "4    Los cargamentos de banano y piña que se export...   \n",
       "..                                                 ...   \n",
       "96   Las luces se apagaron, las notas de Cómo te vo...   \n",
       "97   The Power of the Dog (El poder del perro, 2021...   \n",
       "98   El Real Madrid goleó a la Real Sociedad (4-1),...   \n",
       "99   La iniciativa que Costa Rica presentó ante la ...   \n",
       "100  El abogado Arnoldo André Tinoco, de la firma A...   \n",
       "\n",
       "                                    autor                      date  \n",
       "0                                    AFP   2022-03-05T17:24:02.897Z  \n",
       "1                       Jorge Arturo Mora      2022-02-27T17:11:00Z  \n",
       "2                         Patricia Leitón  2022-03-04T18:56:26.770Z  \n",
       "3                                     NaN  2022-02-28T18:57:30.771Z  \n",
       "4                             Paula Umaña  2022-03-04T23:24:31.341Z  \n",
       "..                                    ...                       ...  \n",
       "96                      Jessica Rojas Ch.  2022-03-05T13:18:27.334Z  \n",
       "97                       Ileana Rodríguez  2022-03-05T17:43:13.429Z  \n",
       "98                                    NaN  2022-03-05T22:45:29.983Z  \n",
       "99                        Irene Rodríguez  2022-03-03T19:42:31.738Z  \n",
       "100   Natasha Cambronero y Esteban Oviedo  2022-03-05T21:43:26.726Z  \n",
       "\n",
       "[101 rows x 4 columns]"
      ]
     },
     "execution_count": 39,
     "metadata": {},
     "output_type": "execute_result"
    }
   ],
   "source": [
    "df = pd.read_csv('./DB/lanacion_2022-03-05.csv')\n",
    "df"
   ]
  },
  {
   "cell_type": "code",
   "execution_count": null,
   "metadata": {},
   "outputs": [],
   "source": []
  }
 ],
 "metadata": {
  "interpreter": {
   "hash": "2331b5354d009749c56a25a8ebd06f4d37da94deeaa44d1be6e5b270fd1f5935"
  },
  "kernelspec": {
   "display_name": "Python 3.10.1 ('venv': venv)",
   "language": "python",
   "name": "python3"
  },
  "language_info": {
   "codemirror_mode": {
    "name": "ipython",
    "version": 3
   },
   "file_extension": ".py",
   "mimetype": "text/x-python",
   "name": "python",
   "nbconvert_exporter": "python",
   "pygments_lexer": "ipython3",
   "version": "3.10.1"
  },
  "orig_nbformat": 4
 },
 "nbformat": 4,
 "nbformat_minor": 2
}
