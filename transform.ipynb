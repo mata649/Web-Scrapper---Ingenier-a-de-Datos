{
 "cells": [
  {
   "cell_type": "code",
   "execution_count": 4,
   "metadata": {},
   "outputs": [],
   "source": [
    "import pandas as pd"
   ]
  },
  {
   "cell_type": "markdown",
   "metadata": {},
   "source": [
    "Series"
   ]
  },
  {
   "cell_type": "code",
   "execution_count": 5,
   "metadata": {},
   "outputs": [
    {
     "data": {
      "text/plain": [
       "0    100\n",
       "1    200\n",
       "2    300\n",
       "3    400\n",
       "4    500\n",
       "5    600\n",
       "6    700\n",
       "7    800\n",
       "8    900\n",
       "dtype: int64"
      ]
     },
     "execution_count": 5,
     "metadata": {},
     "output_type": "execute_result"
    }
   ],
   "source": [
    "series_test = pd.Series(range(100,1000, 100))\n",
    "series_test"
   ]
  },
  {
   "cell_type": "code",
   "execution_count": 6,
   "metadata": {},
   "outputs": [
    {
     "data": {
      "text/plain": [
       "65"
      ]
     },
     "execution_count": 6,
     "metadata": {},
     "output_type": "execute_result"
    }
   ],
   "source": [
    "series_test2 = pd.Series({1999: 48, 2000: 65, 2001: 89})\n",
    "series_test2[2000]"
   ]
  },
  {
   "cell_type": "markdown",
   "metadata": {},
   "source": [
    "DataFrames"
   ]
  },
  {
   "cell_type": "code",
   "execution_count": 7,
   "metadata": {},
   "outputs": [
    {
     "data": {
      "text/html": [
       "<div>\n",
       "<style scoped>\n",
       "    .dataframe tbody tr th:only-of-type {\n",
       "        vertical-align: middle;\n",
       "    }\n",
       "\n",
       "    .dataframe tbody tr th {\n",
       "        vertical-align: top;\n",
       "    }\n",
       "\n",
       "    .dataframe thead th {\n",
       "        text-align: right;\n",
       "    }\n",
       "</style>\n",
       "<table border=\"1\" class=\"dataframe\">\n",
       "  <thead>\n",
       "    <tr style=\"text-align: right;\">\n",
       "      <th></th>\n",
       "      <th>1999</th>\n",
       "      <th>2000</th>\n",
       "      <th>2001</th>\n",
       "      <th>2002</th>\n",
       "    </tr>\n",
       "  </thead>\n",
       "  <tbody>\n",
       "    <tr>\n",
       "      <th>0</th>\n",
       "      <td>74</td>\n",
       "      <td>48</td>\n",
       "      <td>24</td>\n",
       "      <td>64</td>\n",
       "    </tr>\n",
       "    <tr>\n",
       "      <th>1</th>\n",
       "      <td>38</td>\n",
       "      <td>22</td>\n",
       "      <td>37</td>\n",
       "      <td>21</td>\n",
       "    </tr>\n",
       "    <tr>\n",
       "      <th>2</th>\n",
       "      <td>39</td>\n",
       "      <td>31</td>\n",
       "      <td>34</td>\n",
       "      <td>43</td>\n",
       "    </tr>\n",
       "  </tbody>\n",
       "</table>\n",
       "</div>"
      ],
      "text/plain": [
       "   1999  2000  2001  2002\n",
       "0    74    48    24    64\n",
       "1    38    22    37    21\n",
       "2    39    31    34    43"
      ]
     },
     "execution_count": 7,
     "metadata": {},
     "output_type": "execute_result"
    }
   ],
   "source": [
    "frame_test = pd.DataFrame({\n",
    "    1999: [74, 38, 39],\n",
    "    2000: [48, 22, 31],\n",
    "    2001: [24, 37, 34],\n",
    "    2002: [64, 21, 43],\n",
    "\n",
    "})\n",
    "frame_test"
   ]
  },
  {
   "cell_type": "code",
   "execution_count": 8,
   "metadata": {},
   "outputs": [
    {
     "data": {
      "text/html": [
       "<div>\n",
       "<style scoped>\n",
       "    .dataframe tbody tr th:only-of-type {\n",
       "        vertical-align: middle;\n",
       "    }\n",
       "\n",
       "    .dataframe tbody tr th {\n",
       "        vertical-align: top;\n",
       "    }\n",
       "\n",
       "    .dataframe thead th {\n",
       "        text-align: right;\n",
       "    }\n",
       "</style>\n",
       "<table border=\"1\" class=\"dataframe\">\n",
       "  <thead>\n",
       "    <tr style=\"text-align: right;\">\n",
       "      <th></th>\n",
       "      <th>2000</th>\n",
       "      <th>2001</th>\n",
       "      <th>2002</th>\n",
       "    </tr>\n",
       "  </thead>\n",
       "  <tbody>\n",
       "    <tr>\n",
       "      <th>0</th>\n",
       "      <td>74</td>\n",
       "      <td>38</td>\n",
       "      <td>39</td>\n",
       "    </tr>\n",
       "    <tr>\n",
       "      <th>1</th>\n",
       "      <td>48</td>\n",
       "      <td>22</td>\n",
       "      <td>31</td>\n",
       "    </tr>\n",
       "    <tr>\n",
       "      <th>2</th>\n",
       "      <td>64</td>\n",
       "      <td>21</td>\n",
       "      <td>43</td>\n",
       "    </tr>\n",
       "  </tbody>\n",
       "</table>\n",
       "</div>"
      ],
      "text/plain": [
       "   2000  2001  2002\n",
       "0    74    38    39\n",
       "1    48    22    31\n",
       "2    64    21    43"
      ]
     },
     "execution_count": 8,
     "metadata": {},
     "output_type": "execute_result"
    }
   ],
   "source": [
    "frame_test2 = pd.DataFrame( [[74, 38, 39],[48, 22, 31],[64, 21, 43]], columns=[2000,2001,2002])\n",
    "frame_test2"
   ]
  },
  {
   "cell_type": "markdown",
   "metadata": {},
   "source": [
    "Read Data"
   ]
  },
  {
   "cell_type": "code",
   "execution_count": 9,
   "metadata": {},
   "outputs": [
    {
     "data": {
      "text/html": [
       "<div>\n",
       "<style scoped>\n",
       "    .dataframe tbody tr th:only-of-type {\n",
       "        vertical-align: middle;\n",
       "    }\n",
       "\n",
       "    .dataframe tbody tr th {\n",
       "        vertical-align: top;\n",
       "    }\n",
       "\n",
       "    .dataframe thead th {\n",
       "        text-align: right;\n",
       "    }\n",
       "</style>\n",
       "<table border=\"1\" class=\"dataframe\">\n",
       "  <thead>\n",
       "    <tr style=\"text-align: right;\">\n",
       "      <th></th>\n",
       "      <th>autor</th>\n",
       "      <th>body</th>\n",
       "      <th>date</th>\n",
       "      <th>title</th>\n",
       "      <th>url</th>\n",
       "    </tr>\n",
       "  </thead>\n",
       "  <tbody>\n",
       "    <tr>\n",
       "      <th>0</th>\n",
       "      <td>Kimberly Herrera Salazar</td>\n",
       "      <td>A Anna Chlumsky es fácil reconocerla. Su rostr...</td>\n",
       "      <td>2022-03-05T14:00:00Z</td>\n",
       "      <td>Anna Chlumsky, la niña de ‘Mi primer beso’ que...</td>\n",
       "      <td>https://www.nacion.com/viva/television/anna-ch...</td>\n",
       "    </tr>\n",
       "    <tr>\n",
       "      <th>1</th>\n",
       "      <td>AFP</td>\n",
       "      <td>Kiev. A cada ráfaga de viento, trozos de pared...</td>\n",
       "      <td>2022-03-05T15:18:12.813Z</td>\n",
       "      <td>Unas horas para irse o morir en una ciudad ucr...</td>\n",
       "      <td>https://www.nacion.com/el-mundo/conflictos/una...</td>\n",
       "    </tr>\n",
       "    <tr>\n",
       "      <th>2</th>\n",
       "      <td>Carlos Arguedas C.</td>\n",
       "      <td>La Sociedad Periodística Extra Ltda, dueña de ...</td>\n",
       "      <td>2022-03-04T23:13:37.361Z</td>\n",
       "      <td>‘Diario Extra’ impugna resolución que le orden...</td>\n",
       "      <td>https://www.nacion.com/sucesos/judiciales/diar...</td>\n",
       "    </tr>\n",
       "    <tr>\n",
       "      <th>3</th>\n",
       "      <td>Fabrice Le Lous</td>\n",
       "      <td>Este miércoles 2 de marzo, el presidente Carlo...</td>\n",
       "      <td>2022-03-04T00:07:27.112Z</td>\n",
       "      <td>Cannabis medicinal en Costa Rica: así quedó la...</td>\n",
       "      <td>https://www.nacion.com/blogs/el-explicador/can...</td>\n",
       "    </tr>\n",
       "    <tr>\n",
       "      <th>4</th>\n",
       "      <td>Jorge Arturo Mora</td>\n",
       "      <td>Siempre que en el teatro se apagan las luces, ...</td>\n",
       "      <td>2022-03-05T16:23:19.385Z</td>\n",
       "      <td>Jorge Drexler en Costa Rica: crónica de un mil...</td>\n",
       "      <td>https://www.nacion.com/viva/musica/jorge-drexl...</td>\n",
       "    </tr>\n",
       "  </tbody>\n",
       "</table>\n",
       "</div>"
      ],
      "text/plain": [
       "                       autor  \\\n",
       "0   Kimberly Herrera Salazar   \n",
       "1                       AFP    \n",
       "2         Carlos Arguedas C.   \n",
       "3            Fabrice Le Lous   \n",
       "4          Jorge Arturo Mora   \n",
       "\n",
       "                                                body  \\\n",
       "0  A Anna Chlumsky es fácil reconocerla. Su rostr...   \n",
       "1  Kiev. A cada ráfaga de viento, trozos de pared...   \n",
       "2  La Sociedad Periodística Extra Ltda, dueña de ...   \n",
       "3  Este miércoles 2 de marzo, el presidente Carlo...   \n",
       "4  Siempre que en el teatro se apagan las luces, ...   \n",
       "\n",
       "                       date  \\\n",
       "0      2022-03-05T14:00:00Z   \n",
       "1  2022-03-05T15:18:12.813Z   \n",
       "2  2022-03-04T23:13:37.361Z   \n",
       "3  2022-03-04T00:07:27.112Z   \n",
       "4  2022-03-05T16:23:19.385Z   \n",
       "\n",
       "                                               title  \\\n",
       "0  Anna Chlumsky, la niña de ‘Mi primer beso’ que...   \n",
       "1  Unas horas para irse o morir en una ciudad ucr...   \n",
       "2  ‘Diario Extra’ impugna resolución que le orden...   \n",
       "3  Cannabis medicinal en Costa Rica: así quedó la...   \n",
       "4  Jorge Drexler en Costa Rica: crónica de un mil...   \n",
       "\n",
       "                                                 url  \n",
       "0  https://www.nacion.com/viva/television/anna-ch...  \n",
       "1  https://www.nacion.com/el-mundo/conflictos/una...  \n",
       "2  https://www.nacion.com/sucesos/judiciales/diar...  \n",
       "3  https://www.nacion.com/blogs/el-explicador/can...  \n",
       "4  https://www.nacion.com/viva/musica/jorge-drexl...  "
      ]
     },
     "execution_count": 9,
     "metadata": {},
     "output_type": "execute_result"
    }
   ],
   "source": [
    "la_nacion = pd.read_csv('./DB/lanacion_2022-03-06.csv')\n",
    "la_nacion.head(5)"
   ]
  },
  {
   "cell_type": "code",
   "execution_count": 10,
   "metadata": {},
   "outputs": [],
   "source": [
    "la_nacion['date'] = pd.to_datetime(la_nacion['date'])\n"
   ]
  },
  {
   "cell_type": "markdown",
   "metadata": {},
   "source": [
    "Index and selection"
   ]
  },
  {
   "cell_type": "code",
   "execution_count": 11,
   "metadata": {},
   "outputs": [
    {
     "data": {
      "text/plain": [
       "0     Anna Chlumsky, la niña de ‘Mi primer beso’ que...\n",
       "1     Unas horas para irse o morir en una ciudad ucr...\n",
       "2     ‘Diario Extra’ impugna resolución que le orden...\n",
       "3     Cannabis medicinal en Costa Rica: así quedó la...\n",
       "4     Jorge Drexler en Costa Rica: crónica de un mil...\n",
       "                            ...                        \n",
       "95                   ¡Cuídese de una emergencia ocular!\n",
       "96    Eliécer Feinzaig descarta alianza con candidat...\n",
       "97    Ráfaga tumba a ciclista y un auto lo atropella...\n",
       "98    ‘Vértice de asombros’: el arte sagrado de los ...\n",
       "99    ¿Cómo inició la pelea en el Querétaro contra A...\n",
       "Name: title, Length: 100, dtype: object"
      ]
     },
     "execution_count": 11,
     "metadata": {},
     "output_type": "execute_result"
    }
   ],
   "source": [
    "# dicitionary like\n",
    "\n",
    "la_nacion['title']"
   ]
  },
  {
   "cell_type": "code",
   "execution_count": 12,
   "metadata": {},
   "outputs": [
    {
     "data": {
      "text/html": [
       "<div>\n",
       "<style scoped>\n",
       "    .dataframe tbody tr th:only-of-type {\n",
       "        vertical-align: middle;\n",
       "    }\n",
       "\n",
       "    .dataframe tbody tr th {\n",
       "        vertical-align: top;\n",
       "    }\n",
       "\n",
       "    .dataframe thead th {\n",
       "        text-align: right;\n",
       "    }\n",
       "</style>\n",
       "<table border=\"1\" class=\"dataframe\">\n",
       "  <thead>\n",
       "    <tr style=\"text-align: right;\">\n",
       "      <th></th>\n",
       "      <th>title</th>\n",
       "      <th>autor</th>\n",
       "    </tr>\n",
       "  </thead>\n",
       "  <tbody>\n",
       "    <tr>\n",
       "      <th>0</th>\n",
       "      <td>Anna Chlumsky, la niña de ‘Mi primer beso’ que...</td>\n",
       "      <td>Kimberly Herrera Salazar</td>\n",
       "    </tr>\n",
       "    <tr>\n",
       "      <th>1</th>\n",
       "      <td>Unas horas para irse o morir en una ciudad ucr...</td>\n",
       "      <td>AFP</td>\n",
       "    </tr>\n",
       "    <tr>\n",
       "      <th>2</th>\n",
       "      <td>‘Diario Extra’ impugna resolución que le orden...</td>\n",
       "      <td>Carlos Arguedas C.</td>\n",
       "    </tr>\n",
       "    <tr>\n",
       "      <th>3</th>\n",
       "      <td>Cannabis medicinal en Costa Rica: así quedó la...</td>\n",
       "      <td>Fabrice Le Lous</td>\n",
       "    </tr>\n",
       "    <tr>\n",
       "      <th>4</th>\n",
       "      <td>Jorge Drexler en Costa Rica: crónica de un mil...</td>\n",
       "      <td>Jorge Arturo Mora</td>\n",
       "    </tr>\n",
       "    <tr>\n",
       "      <th>...</th>\n",
       "      <td>...</td>\n",
       "      <td>...</td>\n",
       "    </tr>\n",
       "    <tr>\n",
       "      <th>95</th>\n",
       "      <td>¡Cuídese de una emergencia ocular!</td>\n",
       "      <td>Redacción Perfil</td>\n",
       "    </tr>\n",
       "    <tr>\n",
       "      <th>96</th>\n",
       "      <td>Eliécer Feinzaig descarta alianza con candidat...</td>\n",
       "      <td>Rebeca Madrigal Q.</td>\n",
       "    </tr>\n",
       "    <tr>\n",
       "      <th>97</th>\n",
       "      <td>Ráfaga tumba a ciclista y un auto lo atropella...</td>\n",
       "      <td>Keyna Calderón, corresponsal y Luis Enrique B...</td>\n",
       "    </tr>\n",
       "    <tr>\n",
       "      <th>98</th>\n",
       "      <td>‘Vértice de asombros’: el arte sagrado de los ...</td>\n",
       "      <td>Peggy von Mayer</td>\n",
       "    </tr>\n",
       "    <tr>\n",
       "      <th>99</th>\n",
       "      <td>¿Cómo inició la pelea en el Querétaro contra A...</td>\n",
       "      <td>El Universal/México/GDA</td>\n",
       "    </tr>\n",
       "  </tbody>\n",
       "</table>\n",
       "<p>100 rows × 2 columns</p>\n",
       "</div>"
      ],
      "text/plain": [
       "                                                title  \\\n",
       "0   Anna Chlumsky, la niña de ‘Mi primer beso’ que...   \n",
       "1   Unas horas para irse o morir en una ciudad ucr...   \n",
       "2   ‘Diario Extra’ impugna resolución que le orden...   \n",
       "3   Cannabis medicinal en Costa Rica: así quedó la...   \n",
       "4   Jorge Drexler en Costa Rica: crónica de un mil...   \n",
       "..                                                ...   \n",
       "95                 ¡Cuídese de una emergencia ocular!   \n",
       "96  Eliécer Feinzaig descarta alianza con candidat...   \n",
       "97  Ráfaga tumba a ciclista y un auto lo atropella...   \n",
       "98  ‘Vértice de asombros’: el arte sagrado de los ...   \n",
       "99  ¿Cómo inició la pelea en el Querétaro contra A...   \n",
       "\n",
       "                                                autor  \n",
       "0                            Kimberly Herrera Salazar  \n",
       "1                                                AFP   \n",
       "2                                  Carlos Arguedas C.  \n",
       "3                                     Fabrice Le Lous  \n",
       "4                                   Jorge Arturo Mora  \n",
       "..                                                ...  \n",
       "95                                   Redacción Perfil  \n",
       "96                                 Rebeca Madrigal Q.  \n",
       "97   Keyna Calderón, corresponsal y Luis Enrique B...  \n",
       "98                                    Peggy von Mayer  \n",
       "99                            El Universal/México/GDA  \n",
       "\n",
       "[100 rows x 2 columns]"
      ]
     },
     "execution_count": 12,
     "metadata": {},
     "output_type": "execute_result"
    }
   ],
   "source": [
    "la_nacion[['title','autor']]"
   ]
  },
  {
   "cell_type": "code",
   "execution_count": 13,
   "metadata": {},
   "outputs": [
    {
     "data": {
      "text/html": [
       "<div>\n",
       "<style scoped>\n",
       "    .dataframe tbody tr th:only-of-type {\n",
       "        vertical-align: middle;\n",
       "    }\n",
       "\n",
       "    .dataframe tbody tr th {\n",
       "        vertical-align: top;\n",
       "    }\n",
       "\n",
       "    .dataframe thead th {\n",
       "        text-align: right;\n",
       "    }\n",
       "</style>\n",
       "<table border=\"1\" class=\"dataframe\">\n",
       "  <thead>\n",
       "    <tr style=\"text-align: right;\">\n",
       "      <th></th>\n",
       "      <th>autor</th>\n",
       "      <th>body</th>\n",
       "      <th>date</th>\n",
       "      <th>title</th>\n",
       "      <th>url</th>\n",
       "    </tr>\n",
       "  </thead>\n",
       "  <tbody>\n",
       "    <tr>\n",
       "      <th>9</th>\n",
       "      <td>Irene Rodríguez</td>\n",
       "      <td>La tasa de contagio de covid-19 en Costa Rica,...</td>\n",
       "      <td>2022-03-04 12:45:13.022000+00:00</td>\n",
       "      <td>Tasa de contagio de covid-19 llega a su valor ...</td>\n",
       "      <td>https://www.nacion.com/el-pais/salud/tasa-de-c...</td>\n",
       "    </tr>\n",
       "    <tr>\n",
       "      <th>10</th>\n",
       "      <td>NaN</td>\n",
       "      <td>No me llegó la pensión este mes, por lo que ll...</td>\n",
       "      <td>2022-03-06 02:07:44.944000+00:00</td>\n",
       "      <td>Cartas a la columna: Pensión ‘desaparecida’</td>\n",
       "      <td>https://www.nacion.com/opinion/cartas/cartas-a...</td>\n",
       "    </tr>\n",
       "    <tr>\n",
       "      <th>11</th>\n",
       "      <td>Patricia Recio</td>\n",
       "      <td>Tras un año en el abandono, las carreteras nac...</td>\n",
       "      <td>2022-03-05 11:00:00+00:00</td>\n",
       "      <td>Dinero para mantener vías solo alcanza para ta...</td>\n",
       "      <td>https://www.nacion.com/el-pais/infraestructura...</td>\n",
       "    </tr>\n",
       "    <tr>\n",
       "      <th>12</th>\n",
       "      <td>Irene Rodríguez</td>\n",
       "      <td>El Gobierno anunció la tarde de este miércoles...</td>\n",
       "      <td>2022-02-23 19:58:16.717000+00:00</td>\n",
       "      <td>Restricciones sanitarias que cambian a partir ...</td>\n",
       "      <td>https://www.nacion.com/ciencia/salud/restricci...</td>\n",
       "    </tr>\n",
       "  </tbody>\n",
       "</table>\n",
       "</div>"
      ],
      "text/plain": [
       "               autor                                               body  \\\n",
       "9    Irene Rodríguez  La tasa de contagio de covid-19 en Costa Rica,...   \n",
       "10               NaN  No me llegó la pensión este mes, por lo que ll...   \n",
       "11    Patricia Recio  Tras un año en el abandono, las carreteras nac...   \n",
       "12   Irene Rodríguez  El Gobierno anunció la tarde de este miércoles...   \n",
       "\n",
       "                               date  \\\n",
       "9  2022-03-04 12:45:13.022000+00:00   \n",
       "10 2022-03-06 02:07:44.944000+00:00   \n",
       "11        2022-03-05 11:00:00+00:00   \n",
       "12 2022-02-23 19:58:16.717000+00:00   \n",
       "\n",
       "                                                title  \\\n",
       "9   Tasa de contagio de covid-19 llega a su valor ...   \n",
       "10        Cartas a la columna: Pensión ‘desaparecida’   \n",
       "11  Dinero para mantener vías solo alcanza para ta...   \n",
       "12  Restricciones sanitarias que cambian a partir ...   \n",
       "\n",
       "                                                  url  \n",
       "9   https://www.nacion.com/el-pais/salud/tasa-de-c...  \n",
       "10  https://www.nacion.com/opinion/cartas/cartas-a...  \n",
       "11  https://www.nacion.com/el-pais/infraestructura...  \n",
       "12  https://www.nacion.com/ciencia/salud/restricci...  "
      ]
     },
     "execution_count": 13,
     "metadata": {},
     "output_type": "execute_result"
    }
   ],
   "source": [
    "#numpy like\n",
    "\n",
    "la_nacion.iloc[9:13]"
   ]
  },
  {
   "cell_type": "code",
   "execution_count": 14,
   "metadata": {},
   "outputs": [
    {
     "data": {
      "text/plain": [
       "'Unas horas para irse o morir en una ciudad ucraniana destrozada por los bombardeos rusos'"
      ]
     },
     "execution_count": 14,
     "metadata": {},
     "output_type": "execute_result"
    }
   ],
   "source": [
    "la_nacion.iloc[1]['title']"
   ]
  },
  {
   "cell_type": "code",
   "execution_count": 15,
   "metadata": {},
   "outputs": [
    {
     "data": {
      "text/plain": [
       "0     Kimberly Herrera Salazar\n",
       "1                         AFP \n",
       "2           Carlos Arguedas C.\n",
       "3              Fabrice Le Lous\n",
       "4            Jorge Arturo Mora\n",
       "Name: autor, dtype: object"
      ]
     },
     "execution_count": 15,
     "metadata": {},
     "output_type": "execute_result"
    }
   ],
   "source": [
    "la_nacion.iloc[:5,0]"
   ]
  },
  {
   "cell_type": "markdown",
   "metadata": {},
   "source": [
    "Data Wrangling"
   ]
  },
  {
   "cell_type": "code",
   "execution_count": 16,
   "metadata": {},
   "outputs": [],
   "source": [
    "#1. Añadir newspaper_uid al DataFrame\n",
    "\n",
    "la_nacion['newspaper_uid'] = 'lanacion'"
   ]
  },
  {
   "cell_type": "code",
   "execution_count": 17,
   "metadata": {},
   "outputs": [],
   "source": [
    "#2. Obtener el host\n",
    "from urllib.parse import urlparse\n",
    "la_nacion['hostname'] = la_nacion['url'].apply(lambda x: urlparse(x).hostname)"
   ]
  },
  {
   "cell_type": "code",
   "execution_count": 18,
   "metadata": {},
   "outputs": [],
   "source": [
    "la_nacion['autor'] = la_nacion['autor'].fillna('Desconocido')\n",
    "\n"
   ]
  },
  {
   "cell_type": "code",
   "execution_count": 19,
   "metadata": {},
   "outputs": [
    {
     "data": {
      "text/html": [
       "<div>\n",
       "<style scoped>\n",
       "    .dataframe tbody tr th:only-of-type {\n",
       "        vertical-align: middle;\n",
       "    }\n",
       "\n",
       "    .dataframe tbody tr th {\n",
       "        vertical-align: top;\n",
       "    }\n",
       "\n",
       "    .dataframe thead th {\n",
       "        text-align: right;\n",
       "    }\n",
       "</style>\n",
       "<table border=\"1\" class=\"dataframe\">\n",
       "  <thead>\n",
       "    <tr style=\"text-align: right;\">\n",
       "      <th></th>\n",
       "      <th>autor</th>\n",
       "      <th>body</th>\n",
       "      <th>date</th>\n",
       "      <th>title</th>\n",
       "      <th>url</th>\n",
       "      <th>newspaper_uid</th>\n",
       "      <th>hostname</th>\n",
       "    </tr>\n",
       "  </thead>\n",
       "  <tbody>\n",
       "    <tr>\n",
       "      <th>0</th>\n",
       "      <td>Kimberly Herrera Salazar</td>\n",
       "      <td>A Anna Chlumsky es fácil reconocerla. Su rostr...</td>\n",
       "      <td>2022-03-05 14:00:00+00:00</td>\n",
       "      <td>Anna Chlumsky, la niña de ‘Mi primer beso’ que...</td>\n",
       "      <td>https://www.nacion.com/viva/television/anna-ch...</td>\n",
       "      <td>lanacion</td>\n",
       "      <td>www.nacion.com</td>\n",
       "    </tr>\n",
       "    <tr>\n",
       "      <th>1</th>\n",
       "      <td>AFP</td>\n",
       "      <td>Kiev. A cada ráfaga de viento, trozos de pared...</td>\n",
       "      <td>2022-03-05 15:18:12.813000+00:00</td>\n",
       "      <td>Unas horas para irse o morir en una ciudad ucr...</td>\n",
       "      <td>https://www.nacion.com/el-mundo/conflictos/una...</td>\n",
       "      <td>lanacion</td>\n",
       "      <td>www.nacion.com</td>\n",
       "    </tr>\n",
       "  </tbody>\n",
       "</table>\n",
       "</div>"
      ],
      "text/plain": [
       "                       autor  \\\n",
       "0   Kimberly Herrera Salazar   \n",
       "1                       AFP    \n",
       "\n",
       "                                                body  \\\n",
       "0  A Anna Chlumsky es fácil reconocerla. Su rostr...   \n",
       "1  Kiev. A cada ráfaga de viento, trozos de pared...   \n",
       "\n",
       "                              date  \\\n",
       "0        2022-03-05 14:00:00+00:00   \n",
       "1 2022-03-05 15:18:12.813000+00:00   \n",
       "\n",
       "                                               title  \\\n",
       "0  Anna Chlumsky, la niña de ‘Mi primer beso’ que...   \n",
       "1  Unas horas para irse o morir en una ciudad ucr...   \n",
       "\n",
       "                                                 url newspaper_uid  \\\n",
       "0  https://www.nacion.com/viva/television/anna-ch...      lanacion   \n",
       "1  https://www.nacion.com/el-mundo/conflictos/una...      lanacion   \n",
       "\n",
       "         hostname  \n",
       "0  www.nacion.com  \n",
       "1  www.nacion.com  "
      ]
     },
     "execution_count": 19,
     "metadata": {},
     "output_type": "execute_result"
    }
   ],
   "source": [
    "la_nacion.head(2)"
   ]
  },
  {
   "cell_type": "markdown",
   "metadata": {},
   "source": [
    "# 4. Añadir uid a las filas"
   ]
  },
  {
   "cell_type": "code",
   "execution_count": 23,
   "metadata": {},
   "outputs": [],
   "source": [
    "import hashlib\n",
    "uids = (la_nacion.apply(lambda row: hashlib.md5(bytes(row['url'].encode())),axis=1)).apply(lambda hash_object: hash_object.hexdigest())\n",
    "la_nacion['uid'] = uids\n",
    "la_nacion.set_index('uid', inplace=True)"
   ]
  },
  {
   "cell_type": "code",
   "execution_count": null,
   "metadata": {},
   "outputs": [],
   "source": [
    "la_nacion"
   ]
  },
  {
   "cell_type": "markdown",
   "metadata": {},
   "source": [
    "# 5 Valores duplicados"
   ]
  },
  {
   "cell_type": "code",
   "execution_count": 26,
   "metadata": {},
   "outputs": [
    {
     "data": {
      "text/plain": [
       "Anna Chlumsky, la niña de ‘Mi primer beso’ que huyó de la fama y hoy triunfa en Netflix                       1\n",
       "Café del sol, un chineo al paladar en Playa Potrero                                                           1\n",
       "J Balvin ignora ataque de Residente y se enfoca en la salud de su madre                                       1\n",
       "Chile anuncia creación de parque nacional que protegerá 368 glaciares                                         1\n",
       "Periodista británico resulta herido por un disparo en Ucrania                                                 1\n",
       "                                                                                                             ..\n",
       "Petróleo ruso se quedó sin compradores desde el inicio de la guerra con Ucrania                               1\n",
       "Putin lanza advertencia: Países que impongan zona de exclusión aérea en Ucrania serían parte del conflicto    1\n",
       "Jugador de fútbol 5 es asesinado a balazos en La Cruz, Guanacaste                                             1\n",
       "Municipalidad de Oreamuno elimina cobros por rótulos comerciales                                              1\n",
       "¿Cómo inició la pelea en el Querétaro contra Atlas de México? Lo que sabemos                                  1\n",
       "Name: title, Length: 100, dtype: int64"
      ]
     },
     "execution_count": 26,
     "metadata": {},
     "output_type": "execute_result"
    }
   ],
   "source": [
    "la_nacion['title'].value_counts(sort=True)"
   ]
  },
  {
   "cell_type": "code",
   "execution_count": null,
   "metadata": {},
   "outputs": [],
   "source": []
  }
 ],
 "metadata": {
  "interpreter": {
   "hash": "2331b5354d009749c56a25a8ebd06f4d37da94deeaa44d1be6e5b270fd1f5935"
  },
  "kernelspec": {
   "display_name": "Python 3.10.1 ('venv': venv)",
   "language": "python",
   "name": "python3"
  },
  "language_info": {
   "codemirror_mode": {
    "name": "ipython",
    "version": 3
   },
   "file_extension": ".py",
   "mimetype": "text/x-python",
   "name": "python",
   "nbconvert_exporter": "python",
   "pygments_lexer": "ipython3",
   "version": "3.10.1"
  },
  "orig_nbformat": 4
 },
 "nbformat": 4,
 "nbformat_minor": 2
}
